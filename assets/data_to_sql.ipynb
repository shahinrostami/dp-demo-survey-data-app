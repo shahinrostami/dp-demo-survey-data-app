{
 "cells": [
  {
   "cell_type": "code",
   "execution_count": 1,
   "id": "68dd1a3a-85a6-4c60-b958-76d58a061731",
   "metadata": {},
   "outputs": [
    {
     "name": "stderr",
     "output_type": "stream",
     "text": [
      "/var/folders/_j/3_75d81x58lcmq4c6pqrpvp80000gn/T/ipykernel_14191/709798400.py:2: DtypeWarning: Columns (0,195,201,285,286,287,288,289,290,291,292) have mixed types. Specify dtype option on import or set low_memory=False.\n",
      "  df = pd.read_csv(\"kaggle_survey_2021_responses.csv\")\n"
     ]
    }
   ],
   "source": [
    "import pandas as pd \n",
    "df = pd.read_csv(\"kaggle_survey_2021_responses.csv\")"
   ]
  },
  {
   "cell_type": "code",
   "execution_count": 2,
   "id": "85ad3fc8-aa85-455b-bd71-917faca4e76a",
   "metadata": {},
   "outputs": [],
   "source": [
    "import sqlite3\n",
    "conn = sqlite3.connect('kaggle_survey.db')\n",
    "c = conn.cursor()\n",
    "\n",
    "df.to_sql(name='stocks', con=conn, if_exists='append', index=False)\n",
    "\n",
    "conn.commit()"
   ]
  }
 ],
 "metadata": {
  "kernelspec": {
   "display_name": "Python 3 (ipykernel)",
   "language": "python",
   "name": "python3"
  },
  "language_info": {
   "codemirror_mode": {
    "name": "ipython",
    "version": 3
   },
   "file_extension": ".py",
   "mimetype": "text/x-python",
   "name": "python",
   "nbconvert_exporter": "python",
   "pygments_lexer": "ipython3",
   "version": "3.10.9"
  }
 },
 "nbformat": 4,
 "nbformat_minor": 5
}
